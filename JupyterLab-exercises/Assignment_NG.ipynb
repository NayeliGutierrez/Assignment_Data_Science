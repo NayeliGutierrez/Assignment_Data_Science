{
 "cells": [
  {
   "cell_type": "markdown",
   "id": "87e7a868",
   "metadata": {},
   "source": [
    "# My Jupyter Notebook on IBM Watson Studio"
   ]
  },
  {
   "cell_type": "markdown",
   "id": "984a514b",
   "metadata": {},
   "source": [
    "**Nayeli Gutierrez**\n",
    "\n",
    "Biology PhD Student, and aspiring Data Scientist."
   ]
  },
  {
   "cell_type": "markdown",
   "id": "0f6ec0fe",
   "metadata": {},
   "source": [
    "*I am interested in data science because in my doctorate I was fascinated by making inferences form data. I learned to use different languajes to study how beetles process toxin substances and would like to continue analyzing data.*"
   ]
  },
  {
   "cell_type": "markdown",
   "id": "84ee4ef0",
   "metadata": {},
   "source": [
    "### The next cell will divide 10956 to 88."
   ]
  },
  {
   "cell_type": "code",
   "execution_count": 5,
   "id": "9617b9a3",
   "metadata": {},
   "outputs": [
    {
     "data": {
      "text/plain": [
       "124.5"
      ]
     },
     "execution_count": 5,
     "metadata": {},
     "output_type": "execute_result"
    }
   ],
   "source": [
    "10956 / 88"
   ]
  },
  {
   "cell_type": "markdown",
   "id": "e35a49fa",
   "metadata": {},
   "source": [
    "In this [link](https://bugguide.net/node/view/2965) you can find information about milkweed longhorn beetles.\n",
    "\n",
    "**Beetles** are the coolest creatures in earth because:\n",
    "\n",
    "- they have evolved in millions of forms, colors and behaviors.\n",
    "- they are the most abuntant group of organisms in earth.\n",
    "\n",
    "Some beetle names:\n",
    "\n",
    "| Genus | Species |\n",
    "| --- | --- |\n",
    "| Tetraopes | elegans |\n",
    "| Tetraopes | ineditus |\n",
    "| Tetrops | starkii |"
   ]
  }
 ],
 "metadata": {
  "kernelspec": {
   "display_name": "Python 3 (ipykernel)",
   "language": "python",
   "name": "python3"
  },
  "language_info": {
   "codemirror_mode": {
    "name": "ipython",
    "version": 3
   },
   "file_extension": ".py",
   "mimetype": "text/x-python",
   "name": "python",
   "nbconvert_exporter": "python",
   "pygments_lexer": "ipython3",
   "version": "3.7.10"
  }
 },
 "nbformat": 4,
 "nbformat_minor": 5
}
